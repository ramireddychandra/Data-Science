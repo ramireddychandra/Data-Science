{
 "cells": [
  {
   "cell_type": "markdown",
   "id": "b903f68f",
   "metadata": {},
   "source": [
    "\n",
    "\n",
    "\n",
    "# Pandas series"
   ]
  },
  {
   "cell_type": "code",
   "execution_count": 1,
   "id": "e552b687",
   "metadata": {},
   "outputs": [],
   "source": [
    "import numpy as np\n",
    "import pandas as pd"
   ]
  },
  {
   "cell_type": "raw",
   "id": "13185e95",
   "metadata": {},
   "source": [
    "Pandas Series is a one dimensional array of indexed data, it can be created from a list or array as follow."
   ]
  },
  {
   "cell_type": "markdown",
   "id": "23297d00",
   "metadata": {},
   "source": [
    "##### Creating Series by using List"
   ]
  },
  {
   "cell_type": "code",
   "execution_count": 8,
   "id": "81a9702f",
   "metadata": {},
   "outputs": [
    {
     "data": {
      "text/plain": [
       "0    0.25\n",
       "1    0.33\n",
       "2    0.45\n",
       "3    0.85\n",
       "dtype: float64"
      ]
     },
     "execution_count": 8,
     "metadata": {},
     "output_type": "execute_result"
    }
   ],
   "source": [
    "data = pd.Series([0.25,0.33,0.45,0.85])\n",
    "data"
   ]
  },
  {
   "cell_type": "code",
   "execution_count": 5,
   "id": "748333d4",
   "metadata": {},
   "outputs": [
    {
     "data": {
      "text/plain": [
       "array([0.25, 0.33, 0.45, 0.85])"
      ]
     },
     "execution_count": 5,
     "metadata": {},
     "output_type": "execute_result"
    }
   ],
   "source": [
    "data.values"
   ]
  },
  {
   "cell_type": "code",
   "execution_count": 6,
   "id": "2efd689c",
   "metadata": {},
   "outputs": [
    {
     "data": {
      "text/plain": [
       "RangeIndex(start=0, stop=4, step=1)"
      ]
     },
     "execution_count": 6,
     "metadata": {},
     "output_type": "execute_result"
    }
   ],
   "source": [
    "data.index"
   ]
  },
  {
   "cell_type": "code",
   "execution_count": 9,
   "id": "b49596eb",
   "metadata": {},
   "outputs": [
    {
     "data": {
      "text/plain": [
       "a    0.25\n",
       "b    0.33\n",
       "c    0.45\n",
       "d    0.85\n",
       "dtype: float64"
      ]
     },
     "execution_count": 9,
     "metadata": {},
     "output_type": "execute_result"
    }
   ],
   "source": [
    "data2 = pd.Series([0.25,0.33,0.45,0.85], index = ['a','b','c','d'])\n",
    "data2"
   ]
  },
  {
   "cell_type": "markdown",
   "id": "37dbad3b",
   "metadata": {},
   "source": [
    "##### Accessing the data by using index based"
   ]
  },
  {
   "cell_type": "code",
   "execution_count": 10,
   "id": "e3b6febc",
   "metadata": {},
   "outputs": [
    {
     "data": {
      "text/plain": [
       "0.25"
      ]
     },
     "execution_count": 10,
     "metadata": {},
     "output_type": "execute_result"
    }
   ],
   "source": [
    "data2['a']"
   ]
  },
  {
   "cell_type": "markdown",
   "id": "837abcda",
   "metadata": {},
   "source": [
    "##### Creating Series By Using Dictionary"
   ]
  },
  {
   "cell_type": "code",
   "execution_count": 24,
   "id": "44d6dc98",
   "metadata": {},
   "outputs": [],
   "source": [
    "population_dict = {\n",
    "    'AP': 123,\n",
    "    'UP': 234,\n",
    "    'TS': 345,\n",
    "    'KA': 456\n",
    "}\n"
   ]
  },
  {
   "cell_type": "code",
   "execution_count": 25,
   "id": "de3efe39",
   "metadata": {},
   "outputs": [
    {
     "data": {
      "text/plain": [
       "{'AP': 123, 'UP': 234, 'TS': 345, 'KA': 456}"
      ]
     },
     "execution_count": 25,
     "metadata": {},
     "output_type": "execute_result"
    }
   ],
   "source": [
    "population_dict"
   ]
  },
  {
   "cell_type": "code",
   "execution_count": 26,
   "id": "da60e74a",
   "metadata": {},
   "outputs": [
    {
     "data": {
      "text/plain": [
       "AP    123\n",
       "UP    234\n",
       "TS    345\n",
       "KA    456\n",
       "dtype: int64"
      ]
     },
     "execution_count": 26,
     "metadata": {},
     "output_type": "execute_result"
    }
   ],
   "source": [
    "data3 = pd.Series(population_dict)\n",
    "data3"
   ]
  },
  {
   "cell_type": "code",
   "execution_count": 27,
   "id": "92d4d02a",
   "metadata": {},
   "outputs": [
    {
     "data": {
      "text/plain": [
       "456"
      ]
     },
     "execution_count": 27,
     "metadata": {},
     "output_type": "execute_result"
    }
   ],
   "source": [
    "data3['KA']"
   ]
  },
  {
   "cell_type": "markdown",
   "id": "edb998ac",
   "metadata": {},
   "source": [
    "##### Creating the Series by data and index"
   ]
  },
  {
   "cell_type": "code",
   "execution_count": 30,
   "id": "314094aa",
   "metadata": {},
   "outputs": [
    {
     "data": {
      "text/plain": [
       "aa    1\n",
       "bb    3\n",
       "cc    5\n",
       "dd    7\n",
       "dtype: int64"
      ]
     },
     "execution_count": 30,
     "metadata": {},
     "output_type": "execute_result"
    }
   ],
   "source": [
    "data = [1,3,5,7]\n",
    "index = ['aa','bb','cc','dd']\n",
    "data4 = pd.Series(data , index = index)\n",
    "data4"
   ]
  },
  {
   "cell_type": "markdown",
   "id": "f998a349",
   "metadata": {},
   "source": [
    "##### Creating Series by one data with multiple indexs:"
   ]
  },
  {
   "cell_type": "code",
   "execution_count": 31,
   "id": "c1a8ccdb",
   "metadata": {},
   "outputs": [
    {
     "data": {
      "text/plain": [
       "10    5\n",
       "20    5\n",
       "30    5\n",
       "dtype: int64"
      ]
     },
     "execution_count": 31,
     "metadata": {},
     "output_type": "execute_result"
    }
   ],
   "source": [
    "data5 = pd.Series(5,index=[10,20,30])\n",
    "data5"
   ]
  },
  {
   "cell_type": "code",
   "execution_count": 32,
   "id": "2c1c8554",
   "metadata": {},
   "outputs": [
    {
     "data": {
      "text/plain": [
       "c    30\n",
       "a    10\n",
       "dtype: int64"
      ]
     },
     "execution_count": 32,
     "metadata": {},
     "output_type": "execute_result"
    }
   ],
   "source": [
    "data6 = pd.Series({'a':10,'b':20,'c':30} ,index = ['c','a'])\n",
    "data6"
   ]
  },
  {
   "cell_type": "code",
   "execution_count": 34,
   "id": "3ce78b79",
   "metadata": {},
   "outputs": [
    {
     "data": {
      "text/plain": [
       "[('aa', 1), ('bb', 3), ('cc', 5), ('dd', 7)]"
      ]
     },
     "execution_count": 34,
     "metadata": {},
     "output_type": "execute_result"
    }
   ],
   "source": [
    "list(data4.items())"
   ]
  },
  {
   "cell_type": "code",
   "execution_count": 36,
   "id": "346becf3",
   "metadata": {},
   "outputs": [
    {
     "data": {
      "text/plain": [
       "Index(['aa', 'bb', 'cc', 'dd'], dtype='object')"
      ]
     },
     "execution_count": 36,
     "metadata": {},
     "output_type": "execute_result"
    }
   ],
   "source": [
    "data4.keys()"
   ]
  },
  {
   "cell_type": "code",
   "execution_count": 37,
   "id": "5c14592c",
   "metadata": {},
   "outputs": [
    {
     "data": {
      "text/plain": [
       "Index(['aa', 'bb', 'cc', 'dd'], dtype='object')"
      ]
     },
     "execution_count": 37,
     "metadata": {},
     "output_type": "execute_result"
    }
   ],
   "source": [
    "data4.index"
   ]
  },
  {
   "cell_type": "code",
   "execution_count": 46,
   "id": "6f90786a",
   "metadata": {},
   "outputs": [
    {
     "data": {
      "text/plain": [
       "aa    1\n",
       "bb    3\n",
       "cc    5\n",
       "dtype: int64"
      ]
     },
     "execution_count": 46,
     "metadata": {},
     "output_type": "execute_result"
    }
   ],
   "source": [
    "data4['aa':'cc']  #Explict index"
   ]
  },
  {
   "cell_type": "code",
   "execution_count": 48,
   "id": "8aae46b2",
   "metadata": {},
   "outputs": [
    {
     "data": {
      "text/plain": [
       "aa    1\n",
       "bb    3\n",
       "cc    5\n",
       "dtype: int64"
      ]
     },
     "execution_count": 48,
     "metadata": {},
     "output_type": "execute_result"
    }
   ],
   "source": [
    "data4[0:3]  #Implicit index"
   ]
  },
  {
   "cell_type": "code",
   "execution_count": 50,
   "id": "d39c19be",
   "metadata": {},
   "outputs": [
    {
     "data": {
      "text/plain": [
       "cc    5\n",
       "dd    7\n",
       "dtype: int64"
      ]
     },
     "execution_count": 50,
     "metadata": {},
     "output_type": "execute_result"
    }
   ],
   "source": [
    "data4[data4>4]  # masking"
   ]
  },
  {
   "cell_type": "code",
   "execution_count": 51,
   "id": "169224d9",
   "metadata": {},
   "outputs": [
    {
     "data": {
      "text/plain": [
       "aa    1\n",
       "cc    5\n",
       "dtype: int64"
      ]
     },
     "execution_count": 51,
     "metadata": {},
     "output_type": "execute_result"
    }
   ],
   "source": [
    "data4[['aa','cc']]  # Fancy Indexing ..."
   ]
  },
  {
   "cell_type": "markdown",
   "id": "64237f88",
   "metadata": {},
   "source": [
    "### loc"
   ]
  },
  {
   "cell_type": "markdown",
   "id": "6cc41503",
   "metadata": {},
   "source": [
    "#### FIrst loc Attribute allows indexing and slicing that always refers the explicit indexing ... "
   ]
  },
  {
   "cell_type": "code",
   "execution_count": 58,
   "id": "d8be99da",
   "metadata": {},
   "outputs": [
    {
     "data": {
      "text/plain": [
       "3"
      ]
     },
     "execution_count": 58,
     "metadata": {},
     "output_type": "execute_result"
    }
   ],
   "source": [
    "data4.loc['bb']"
   ]
  },
  {
   "cell_type": "code",
   "execution_count": 61,
   "id": "7771d405",
   "metadata": {},
   "outputs": [
    {
     "data": {
      "text/plain": [
       "3"
      ]
     },
     "execution_count": 61,
     "metadata": {},
     "output_type": "execute_result"
    }
   ],
   "source": [
    "data4.iloc[1]"
   ]
  },
  {
   "cell_type": "markdown",
   "id": "01693424",
   "metadata": {},
   "source": [
    "#### Operating with null values"
   ]
  },
  {
   "cell_type": "code",
   "execution_count": 62,
   "id": "36285e0c",
   "metadata": {},
   "outputs": [
    {
     "data": {
      "text/plain": [
       "0         1\n",
       "1       NaN\n",
       "2    choice\n",
       "3      None\n",
       "dtype: object"
      ]
     },
     "execution_count": 62,
     "metadata": {},
     "output_type": "execute_result"
    }
   ],
   "source": [
    "df1 = pd.Series([1, np.nan , 'choice', None])\n",
    "df1"
   ]
  },
  {
   "cell_type": "code",
   "execution_count": 63,
   "id": "3d4323c6",
   "metadata": {},
   "outputs": [
    {
     "data": {
      "text/plain": [
       "0    False\n",
       "1     True\n",
       "2    False\n",
       "3     True\n",
       "dtype: bool"
      ]
     },
     "execution_count": 63,
     "metadata": {},
     "output_type": "execute_result"
    }
   ],
   "source": [
    "df1.isnull()"
   ]
  },
  {
   "cell_type": "code",
   "execution_count": 64,
   "id": "71ec6df6",
   "metadata": {},
   "outputs": [
    {
     "data": {
      "text/plain": [
       "0         1\n",
       "2    choice\n",
       "dtype: object"
      ]
     },
     "execution_count": 64,
     "metadata": {},
     "output_type": "execute_result"
    }
   ],
   "source": [
    "df1[df1.notnull()]"
   ]
  },
  {
   "cell_type": "code",
   "execution_count": 66,
   "id": "9e7686f3",
   "metadata": {},
   "outputs": [
    {
     "data": {
      "text/plain": [
       "1     NaN\n",
       "3    None\n",
       "dtype: object"
      ]
     },
     "execution_count": 66,
     "metadata": {},
     "output_type": "execute_result"
    }
   ],
   "source": [
    "df1[~df1.notnull()]"
   ]
  },
  {
   "cell_type": "code",
   "execution_count": 69,
   "id": "f72ef278",
   "metadata": {},
   "outputs": [
    {
     "data": {
      "text/plain": [
       "0         1\n",
       "1       NaN\n",
       "2    choice\n",
       "3      None\n",
       "dtype: object"
      ]
     },
     "execution_count": 69,
     "metadata": {},
     "output_type": "execute_result"
    }
   ],
   "source": [
    "df1"
   ]
  },
  {
   "cell_type": "code",
   "execution_count": 72,
   "id": "9a198b37",
   "metadata": {},
   "outputs": [],
   "source": [
    "df1.dropna(inplace = True)"
   ]
  },
  {
   "cell_type": "code",
   "execution_count": 73,
   "id": "be30e06c",
   "metadata": {},
   "outputs": [
    {
     "data": {
      "text/plain": [
       "0         1\n",
       "2    choice\n",
       "dtype: object"
      ]
     },
     "execution_count": 73,
     "metadata": {},
     "output_type": "execute_result"
    }
   ],
   "source": [
    "df1"
   ]
  },
  {
   "cell_type": "code",
   "execution_count": null,
   "id": "42faf6de",
   "metadata": {},
   "outputs": [],
   "source": []
  }
 ],
 "metadata": {
  "kernelspec": {
   "display_name": "Python 3 (ipykernel)",
   "language": "python",
   "name": "python3"
  },
  "language_info": {
   "codemirror_mode": {
    "name": "ipython",
    "version": 3
   },
   "file_extension": ".py",
   "mimetype": "text/x-python",
   "name": "python",
   "nbconvert_exporter": "python",
   "pygments_lexer": "ipython3",
   "version": "3.9.12"
  }
 },
 "nbformat": 4,
 "nbformat_minor": 5
}
